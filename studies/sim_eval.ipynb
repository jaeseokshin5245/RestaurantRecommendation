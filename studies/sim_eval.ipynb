{
 "cells": [
  {
   "cell_type": "code",
   "execution_count": 38,
   "metadata": {},
   "outputs": [],
   "source": [
    "import pandas as pd\n",
    "from sklearn.feature_extraction.text import CountVectorizer\n",
    "from sklearn.metrics import precision_score, recall_score, f1_score\n",
    "from sklearn.metrics.pairwise import cosine_similarity, euclidean_distances, manhattan_distances \n",
    "from tabulate import tabulate\n",
    "\n",
    "class RestaurantRecommender:\n",
    "    def __init__(self, data_path):\n",
    "        self.data = pd.read_csv(data_path, encoding='cp949')\n",
    "\n",
    "    def preprocess_data(self):\n",
    "        self.data['메뉴'] = self.data['메뉴'].apply(lambda x: ''.join(x))\n",
    "\n",
    "    def calculate_similarity(self):\n",
    "        count_vec = CountVectorizer(min_df=0, ngram_range=(1, 2))\n",
    "        self.menu_mat = count_vec.fit_transform(self.data['메뉴'])\n",
    "        self.menu_sim = cosine_similarity(self.menu_mat, self.menu_mat)\n",
    "\n",
    "    def weighted_vote_average(self, record, m, C):\n",
    "        v = record['별점 수']\n",
    "        R = record['별점']\n",
    "        return ((v / (v + m)) * R) + ((m / (m + v)) * C)\n",
    "\n",
    "    def calculate_weighted_ratings(self, percentile):\n",
    "        m = self.data['별점 수'].quantile(percentile)\n",
    "        C = self.data['별점'].mean()\n",
    "        self.data['가중 별점'] = self.data.apply(self.weighted_vote_average, axis=1, args=(m, C))\n",
    "\n",
    "    def find_similar_restaurant(self, title_name, top_n=10):\n",
    "        self.rest_menu = self.data[self.data['업소명'] == title_name]\n",
    "        self.rest_index = self.rest_menu.index.values\n",
    "        self.data[\"유사도\"] = self.menu_sim[self.rest_index, :].reshape(-1, 1)\n",
    "        self.pre_temp = self.data.sort_values(by=[\"유사도\", \"가중 별점\"], ascending=False)\n",
    "        temp = self.pre_temp[self.pre_temp.index.values != self.rest_index]\n",
    "        final_index = temp.index.values[:top_n]\n",
    "        return self.data.iloc[final_index]\n",
    "\n",
    "    def display_recommendations(self, recommendations):\n",
    "        sim_rest_df = pd.DataFrame(recommendations[['업소명', '별점', '유사도']])\n",
    "        # print(\"메뉴 유사도-가중 평점 고려 식당 추천\")\n",
    "        # print(tabulate(sim_rest_df, headers='keys', tablefmt='fancy_outline'))\n",
    "\n",
    "    def evaluate__similarity(self, title_name):\n",
    "        # 입력 식당의 메뉴, 식당명을 따로 추출\n",
    "        # 비교 식당들의 메뉴, 식당명을 따로 추출\n",
    "        self.rest_menu = self.data[self.data['업소명'] == title_name]\n",
    "        print(self.rest_menu['업소명'])\n",
    "        print(self.rest_menu['메뉴'])\n",
    "        \n",
    "        self.rest_index = self.rest_menu.index.values\n",
    "        self.data[\"유사도\"] = self.menu_sim[self.rest_index, :].reshape(-1, 1)\n",
    "        self.pre_temp = self.data.sort_values(by=[\"유사도\"], ascending=False)\n",
    "        print(self.pre_temp[\"유사도\"][:10])\n",
    "        # # Calculate precision, recall, and F1 score\n",
    "        # precision = precision_score(true_labels, predicted_labels)\n",
    "        # recall = recall_score(true_labels, predicted_labels)\n",
    "        # f1 = f1_score(true_labels, predicted_labels)\n",
    "\n",
    "        # print(\"Precision:\", precision)\n",
    "        # print(\"Recall:\", recall)\n",
    "        # print(\"F1 Score:\", f1)"
   ]
  },
  {
   "cell_type": "code",
   "execution_count": 39,
   "metadata": {},
   "outputs": [
    {
     "name": "stdout",
     "output_type": "stream",
     "text": [
      "27    충만치킨\n",
      "Name: 업소명, dtype: object\n",
      "27    후라이드치킨, 양념치킨, 간장치킨, 어니언치킨\n",
      "Name: 메뉴, dtype: object\n",
      "27     1.000000\n",
      "74     0.714286\n",
      "41     0.676123\n",
      "102    0.585540\n",
      "96     0.571429\n",
      "90     0.503953\n",
      "81     0.458349\n",
      "66     0.428571\n",
      "88     0.285714\n",
      "68     0.251976\n",
      "Name: 유사도, dtype: float64\n"
     ]
    }
   ],
   "source": [
    "if __name__ == '__main__':\n",
    "    recommender = RestaurantRecommender('./source.csv')\n",
    "    recommender.preprocess_data()\n",
    "    recommender.calculate_similarity()\n",
    "    recommender.calculate_weighted_ratings(0.6)\n",
    "    similar_restaurants = recommender.find_similar_restaurant('충만치킨', 10)\n",
    "    recommender.display_recommendations(similar_restaurants)\n",
    "    recommender.evaluate__similarity(\"충만치킨\")\n"
   ]
  },
  {
   "cell_type": "code",
   "execution_count": 10,
   "metadata": {},
   "outputs": [
    {
     "name": "stdout",
     "output_type": "stream",
     "text": [
      "Precision: 0.5\n",
      "Recall: 1.0\n",
      "F1 Score: 0.6666666666666666\n"
     ]
    }
   ],
   "source": [
    "def precision_at_k(true_items, predicted_items, k):\n",
    "    \"\"\"\n",
    "    Calculate Precision@k.\n",
    "\n",
    "    Parameters:\n",
    "    - true_items: List of true items (ground truth)\n",
    "    - predicted_items: List of predicted items\n",
    "    - k: Number of top items to consider\n",
    "\n",
    "    Returns:\n",
    "    - Precision@k\n",
    "    \"\"\"\n",
    "    if k <= 0:\n",
    "        raise ValueError(\"k must be a positive integer.\")\n",
    "\n",
    "    # Take only the top-k predicted items\n",
    "    predicted_items_at_k = predicted_items[:k]\n",
    "\n",
    "    # Calculate the intersection between true_items and predicted_items_at_k\n",
    "    intersection = set(true_items) & set(predicted_items_at_k)\n",
    "\n",
    "    # Calculate Precision@k\n",
    "    precision = len(intersection) / min(k, len(predicted_items))\n",
    "\n",
    "    return precision\n",
    "\n",
    "# Example usage:\n",
    "true_items = [1, 2, 3, 4, 5]\n",
    "predicted_items = [2, 4, 6, 8, 10]\n",
    "\n",
    "k = 3\n",
    "precision_at_k_value = precision_at_k(true_items, predicted_items, k)\n",
    "\n",
    "print(f'Precision@{k}: {precision_at_k_value}')\n",
    "\n"
   ]
  }
 ],
 "metadata": {
  "kernelspec": {
   "display_name": "base",
   "language": "python",
   "name": "python3"
  },
  "language_info": {
   "codemirror_mode": {
    "name": "ipython",
    "version": 3
   },
   "file_extension": ".py",
   "mimetype": "text/x-python",
   "name": "python",
   "nbconvert_exporter": "python",
   "pygments_lexer": "ipython3",
   "version": "3.9.13"
  }
 },
 "nbformat": 4,
 "nbformat_minor": 2
}
